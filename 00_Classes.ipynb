{
  "nbformat": 4,
  "nbformat_minor": 0,
  "metadata": {
    "colab": {
      "name": "00 Classes.ipynb",
      "provenance": [],
      "collapsed_sections": [],
      "authorship_tag": "ABX9TyMNMaRscmkzH+yv/zjsJjgA",
      "include_colab_link": true
    },
    "kernelspec": {
      "name": "python3",
      "display_name": "Python 3"
    },
    "language_info": {
      "name": "python"
    }
  },
  "cells": [
    {
      "cell_type": "markdown",
      "metadata": {
        "id": "view-in-github",
        "colab_type": "text"
      },
      "source": [
        "<a href=\"https://colab.research.google.com/github/DogmaticArtist/DFE6new/blob/main/00_Classes.ipynb\" target=\"_parent\"><img src=\"https://colab.research.google.com/assets/colab-badge.svg\" alt=\"Open In Colab\"/></a>"
      ]
    },
    {
      "cell_type": "code",
      "execution_count": 1,
      "metadata": {
        "id": "Gqm1FzJWlqGg"
      },
      "outputs": [],
      "source": [
        "# OBJECTS\n",
        "class Human:\n",
        "  def speak(this):\n",
        "    print('bye bye')\n",
        "  def jump(this): \n",
        "    return \"I jumped. Byr bye.\"\n",
        "  def eat(this, food):\n",
        "    return food-1"
      ]
    },
    {
      "cell_type": "code",
      "source": [
        "class linear:\n",
        "  #constructor -> function that builds and intializes the class\n",
        "  def __init__(self;):\n",
        "    self.base = 0\n",
        "    return self "
      ],
      "metadata": {
        "id": "ctWqjxT_os1G"
      },
      "execution_count": null,
      "outputs": []
    },
    {
      "cell_type": "code",
      "source": [
        "# Geographic point -> lati, long\n",
        "# a,b -> remember 2 names; operate on 2 names \n",
        "#CLASS - allows multiple values in one go. CLASS are items that are physically together \n",
        "\n",
        "# functional programming -> functions\n",
        "#how to do things \n",
        "#1. switch the fan _ def fan_0n():\n",
        "#change the speed def change_speed():\n",
        "#switch off the fan def fan_off():\n",
        "\n",
        "\n",
        "#objected oriented -> classes \n",
        "#IDENTIFY -> NOUN, VERBS\n",
        "#CLASS FAN -> can perform 3 functions \n",
        "#class Fan:\n",
        "#  def switch_on, change_speed, switch_off\n",
        "#  fan f1; f1.on()"
      ],
      "metadata": {
        "id": "ekWg3-yutrWg"
      },
      "execution_count": null,
      "outputs": []
    },
    {
      "cell_type": "code",
      "source": [
        "class Printer:\n",
        "  def hello(self):\n",
        "    print(\"hello world\")\n",
        "  def bye(self, randomtext):\n",
        "    print(randomtext) "
      ],
      "metadata": {
        "id": "GSSNdyKroyuL"
      },
      "execution_count": 2,
      "outputs": []
    },
    {
      "cell_type": "markdown",
      "source": [
        ""
      ],
      "metadata": {
        "id": "u-_KpXnqoy-k"
      }
    },
    {
      "cell_type": "code",
      "source": [
        "myprinter = Printer()\n",
        "myprinter.hello()\n",
        " "
      ],
      "metadata": {
        "colab": {
          "base_uri": "https://localhost:8080/"
        },
        "id": "Q63_R_eNozW1",
        "outputId": "dc1e959e-f07e-404a-a760-930124871914"
      },
      "execution_count": 4,
      "outputs": [
        {
          "output_type": "stream",
          "name": "stdout",
          "text": [
            "hello world\n"
          ]
        }
      ]
    },
    {
      "cell_type": "code",
      "source": [
        "myprinter.bye()"
      ],
      "metadata": {
        "colab": {
          "base_uri": "https://localhost:8080/",
          "height": 171
        },
        "id": "WGdtcVTEvkPf",
        "outputId": "fee6412c-085c-4ea0-f859-02334a47b6a7"
      },
      "execution_count": 5,
      "outputs": [
        {
          "output_type": "error",
          "ename": "TypeError",
          "evalue": "ignored",
          "traceback": [
            "\u001b[0;31m---------------------------------------------------------------------------\u001b[0m",
            "\u001b[0;31mTypeError\u001b[0m                                 Traceback (most recent call last)",
            "\u001b[0;32m<ipython-input-5-079b80e30343>\u001b[0m in \u001b[0;36m<module>\u001b[0;34m()\u001b[0m\n\u001b[0;32m----> 1\u001b[0;31m \u001b[0mmyprinter\u001b[0m\u001b[0;34m.\u001b[0m\u001b[0mbye\u001b[0m\u001b[0;34m(\u001b[0m\u001b[0;34m)\u001b[0m\u001b[0;34m\u001b[0m\u001b[0;34m\u001b[0m\u001b[0m\n\u001b[0m",
            "\u001b[0;31mTypeError\u001b[0m: bye() missing 1 required positional argument: 'randomtext'"
          ]
        }
      ]
    },
    {
      "cell_type": "code",
      "source": [
        "#Human -> 1 nose \n",
        "# 3 noses;\n",
        "class Human:\n",
        "  def __init__(self): #called automatically\n",
        "    self.noseCount = 1\n",
        "    self.tailCount = 0\n",
        " \n",
        "  def getOrganCount(self):\n",
        "    print('Nose count = ' + str(self.noseCount) )\n",
        "    print('Tail count = ' + str(self.tailCount))\n",
        "\n"
      ],
      "metadata": {
        "id": "YaXwBDAsvojy"
      },
      "execution_count": 8,
      "outputs": []
    },
    {
      "cell_type": "code",
      "source": [
        "john = Human()\n"
      ],
      "metadata": {
        "id": "7DXj-IFBw5eN"
      },
      "execution_count": 10,
      "outputs": []
    },
    {
      "cell_type": "code",
      "source": [
        "print(dir(john))"
      ],
      "metadata": {
        "colab": {
          "base_uri": "https://localhost:8080/"
        },
        "id": "nZjoqttZxKXZ",
        "outputId": "83b2b05e-6518-4bdf-9fb7-48e877b1306c"
      },
      "execution_count": 11,
      "outputs": [
        {
          "output_type": "stream",
          "name": "stdout",
          "text": [
            "['__class__', '__delattr__', '__dict__', '__dir__', '__doc__', '__eq__', '__format__', '__ge__', '__getattribute__', '__gt__', '__hash__', '__init__', '__init_subclass__', '__le__', '__lt__', '__module__', '__ne__', '__new__', '__reduce__', '__reduce_ex__', '__repr__', '__setattr__', '__sizeof__', '__str__', '__subclasshook__', '__weakref__', 'getOrganCount', 'noseCount', 'tailCount']\n"
          ]
        }
      ]
    },
    {
      "cell_type": "code",
      "source": [
        "john.getOrganCount()"
      ],
      "metadata": {
        "colab": {
          "base_uri": "https://localhost:8080/"
        },
        "id": "b0WM1gt-xTcQ",
        "outputId": "be27363b-1068-480d-fc14-f2b10e63ade2"
      },
      "execution_count": 13,
      "outputs": [
        {
          "output_type": "stream",
          "name": "stdout",
          "text": [
            "Nose count = 1\n",
            "Tail count = 0\n"
          ]
        }
      ]
    }
  ]
}